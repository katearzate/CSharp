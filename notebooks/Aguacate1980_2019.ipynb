{
  "nbformat": 4,
  "nbformat_minor": 0,
  "metadata": {
    "colab": {
      "name": "Aguacate1980_2019.ipynb",
      "provenance": [],
      "include_colab_link": true
    },
    "kernelspec": {
      "name": "python3",
      "display_name": "Python 3"
    }
  },
  "cells": [
    {
      "cell_type": "markdown",
      "metadata": {
        "id": "view-in-github",
        "colab_type": "text"
      },
      "source": [
        "<a href=\"https://colab.research.google.com/github/katearzate/CSharp/blob/master/notebooks/Aguacate1980_2019.ipynb\" target=\"_parent\"><img src=\"https://colab.research.google.com/assets/colab-badge.svg\" alt=\"Open In Colab\"/></a>"
      ]
    },
    {
      "cell_type": "markdown",
      "metadata": {
        "id": "POAxmY4jXP-9"
      },
      "source": [
        "#Obtención de los datos"
      ]
    },
    {
      "cell_type": "markdown",
      "metadata": {
        "id": "3eEyoMc4BSvg"
      },
      "source": [
        "El aguacate es uno de los principales productos agrícolas mexicanos es en la exportación agroalimentaria en México, convirtiendolo en el principal proveedor del mercado internacional. \r\n",
        "Lo que muchos no saben es que el epicentro de la producción se ha visto afectado con el crimen organizado con fines de lucro, de ahí paso su sobrenombre del aguacate de \"oro verde\" a \"**diamante de sangre**\".\r\n",
        "\r\n",
        "\r\n",
        "\r\n",
        "Comenzaremos con obtener la colección de datos desde la Estadística de Producción Agrícola en http://infosiap.siap.gob.mx/gobmx/datosAbiertos.php, los cuales fueron guardados en el repositorio para mayor comodidad.\r\n",
        "\r\n",
        "\r\n",
        "---\r\n",
        "\r\n"
      ]
    },
    {
      "cell_type": "markdown",
      "metadata": {
        "id": "S6khHqdhXIi-"
      },
      "source": [
        "Importamos las librerias necesarias."
      ]
    },
    {
      "cell_type": "code",
      "metadata": {
        "id": "a7prCHR-FXcq"
      },
      "source": [
        "import pandas as pd"
      ],
      "execution_count": null,
      "outputs": []
    },
    {
      "cell_type": "markdown",
      "metadata": {
        "id": "w-IOYGTpW8_1"
      },
      "source": [
        "Leemos los '.csv' y se concatenan en un solo dataframe. "
      ]
    },
    {
      "cell_type": "code",
      "metadata": {
        "id": "W_VxCGF-4Xv1"
      },
      "source": [
        "%%capture\r\n",
        "dfs = [pd.read_csv(f'https://raw.githubusercontent.com/mnaR99/narco_aguacate/main/data/raw/produccion/datosAbiertosGob/{anio}.csv', encoding='ISO-8859-1') for anio in range(1980,2020)]\r\n",
        "df = pd.concat(dfs, sort='False', ignore_index='True')"
      ],
      "execution_count": null,
      "outputs": []
    },
    {
      "cell_type": "markdown",
      "metadata": {
        "id": "uF9zkqhZboSP"
      },
      "source": [
        "# Análisis exploratorio de los datos"
      ]
    },
    {
      "cell_type": "markdown",
      "metadata": {
        "id": "OC2rA9efXhq6"
      },
      "source": [
        "Vemos las columnas que lo componen."
      ]
    },
    {
      "cell_type": "code",
      "metadata": {
        "colab": {
          "base_uri": "https://localhost:8080/"
        },
        "id": "voFu6TXIRYeB",
        "outputId": "aafae4b8-b1fb-4e9c-d331-7eadca34315a"
      },
      "source": [
        "df.columns"
      ],
      "execution_count": null,
      "outputs": [
        {
          "output_type": "execute_result",
          "data": {
            "text/plain": [
              "Index(['Anio', 'Cosechada', 'Idcader', 'Idciclo', 'Idcultivo', 'Idddr',\n",
              "       'Idestado', 'Idmodalidad', 'Idmunicipio', 'Idunidadmedida', 'Nomcader',\n",
              "       'Nomcicloproductivo', 'Nomcultivo', 'Nomddr', 'Nomestado',\n",
              "       'Nommodalidad', 'Nommunicipio', 'Nomunidad', 'Precio', 'Rendimiento',\n",
              "       'Sembrada', 'Siniestrada', 'Unnamed: 18', 'Valorproduccion',\n",
              "       'Volumenproduccion'],\n",
              "      dtype='object')"
            ]
          },
          "metadata": {
            "tags": []
          },
          "execution_count": 44
        }
      ]
    },
    {
      "cell_type": "markdown",
      "metadata": {
        "id": "AhCi8zbe9ly1"
      },
      "source": [
        " El tamaño del dataframe."
      ]
    },
    {
      "cell_type": "code",
      "metadata": {
        "colab": {
          "base_uri": "https://localhost:8080/"
        },
        "id": "74AmjUZVf_1T",
        "outputId": "49bb15e0-9080-43e3-8384-49e1ed2657be"
      },
      "source": [
        "df.shape"
      ],
      "execution_count": null,
      "outputs": [
        {
          "output_type": "execute_result",
          "data": {
            "text/plain": [
              "(689014, 25)"
            ]
          },
          "metadata": {
            "tags": []
          },
          "execution_count": 45
        }
      ]
    },
    {
      "cell_type": "markdown",
      "metadata": {
        "id": "WJOQ0jyq3aEf"
      },
      "source": [
        "Un acercamiento para ver qué hay dentro de nuestro dataframe. "
      ]
    },
    {
      "cell_type": "code",
      "metadata": {
        "colab": {
          "base_uri": "https://localhost:8080/",
          "height": 279
        },
        "id": "Uykkg3-7Rxka",
        "outputId": "c4dab3f4-d8d7-400d-a82f-0f4e362ec50f"
      },
      "source": [
        "df.head(3)"
      ],
      "execution_count": null,
      "outputs": [
        {
          "output_type": "execute_result",
          "data": {
            "text/html": [
              "<div>\n",
              "<style scoped>\n",
              "    .dataframe tbody tr th:only-of-type {\n",
              "        vertical-align: middle;\n",
              "    }\n",
              "\n",
              "    .dataframe tbody tr th {\n",
              "        vertical-align: top;\n",
              "    }\n",
              "\n",
              "    .dataframe thead th {\n",
              "        text-align: right;\n",
              "    }\n",
              "</style>\n",
              "<table border=\"1\" class=\"dataframe\">\n",
              "  <thead>\n",
              "    <tr style=\"text-align: right;\">\n",
              "      <th></th>\n",
              "      <th>Anio</th>\n",
              "      <th>Idestado</th>\n",
              "      <th>Nomestado</th>\n",
              "      <th>Idddr</th>\n",
              "      <th>Nomddr</th>\n",
              "      <th>Idcader</th>\n",
              "      <th>Nomcader</th>\n",
              "      <th>Idmunicipio</th>\n",
              "      <th>Nommunicipio</th>\n",
              "      <th>Idciclo</th>\n",
              "      <th>Nomcicloproductivo</th>\n",
              "      <th>Idmodalidad</th>\n",
              "      <th>Nommodalidad</th>\n",
              "      <th>Idunidadmedida</th>\n",
              "      <th>Nomunidad</th>\n",
              "      <th>Idcultivo</th>\n",
              "      <th>Nomcultivo</th>\n",
              "      <th>Sembrada</th>\n",
              "      <th>Cosechada</th>\n",
              "      <th>Siniestrada</th>\n",
              "      <th>Volumenproduccion</th>\n",
              "      <th>Rendimiento</th>\n",
              "      <th>Precio</th>\n",
              "      <th>Valorproduccion</th>\n",
              "      <th>Unnamed: 18</th>\n",
              "    </tr>\n",
              "  </thead>\n",
              "  <tbody>\n",
              "    <tr>\n",
              "      <th>0</th>\n",
              "      <td>2003.0</td>\n",
              "      <td>1.0</td>\n",
              "      <td>Aguascalientes</td>\n",
              "      <td>1.0</td>\n",
              "      <td>Aguascalientes</td>\n",
              "      <td>1.0</td>\n",
              "      <td>Aguascalientes</td>\n",
              "      <td>1.0</td>\n",
              "      <td>Aguascalientes</td>\n",
              "      <td>1.0</td>\n",
              "      <td>Otoño-Invierno</td>\n",
              "      <td>1.0</td>\n",
              "      <td>Riego</td>\n",
              "      <td>200201.0</td>\n",
              "      <td>Tonelada</td>\n",
              "      <td>5490000.0</td>\n",
              "      <td>Avena forrajera en verde</td>\n",
              "      <td>1062.0</td>\n",
              "      <td>1062.0</td>\n",
              "      <td>0.0</td>\n",
              "      <td>28529.0</td>\n",
              "      <td>26.86</td>\n",
              "      <td>323.4</td>\n",
              "      <td>9226278.6</td>\n",
              "      <td>NaN</td>\n",
              "    </tr>\n",
              "    <tr>\n",
              "      <th>1</th>\n",
              "      <td>2003.0</td>\n",
              "      <td>1.0</td>\n",
              "      <td>Aguascalientes</td>\n",
              "      <td>1.0</td>\n",
              "      <td>Aguascalientes</td>\n",
              "      <td>1.0</td>\n",
              "      <td>Aguascalientes</td>\n",
              "      <td>1.0</td>\n",
              "      <td>Aguascalientes</td>\n",
              "      <td>1.0</td>\n",
              "      <td>Otoño-Invierno</td>\n",
              "      <td>1.0</td>\n",
              "      <td>Riego</td>\n",
              "      <td>200201.0</td>\n",
              "      <td>Tonelada</td>\n",
              "      <td>5900000.0</td>\n",
              "      <td>Cebada forrajera en verde</td>\n",
              "      <td>2.0</td>\n",
              "      <td>2.0</td>\n",
              "      <td>0.0</td>\n",
              "      <td>54.0</td>\n",
              "      <td>27</td>\n",
              "      <td>250.0</td>\n",
              "      <td>13500.0</td>\n",
              "      <td>NaN</td>\n",
              "    </tr>\n",
              "    <tr>\n",
              "      <th>2</th>\n",
              "      <td>2003.0</td>\n",
              "      <td>1.0</td>\n",
              "      <td>Aguascalientes</td>\n",
              "      <td>1.0</td>\n",
              "      <td>Aguascalientes</td>\n",
              "      <td>1.0</td>\n",
              "      <td>Aguascalientes</td>\n",
              "      <td>1.0</td>\n",
              "      <td>Aguascalientes</td>\n",
              "      <td>1.0</td>\n",
              "      <td>Otoño-Invierno</td>\n",
              "      <td>1.0</td>\n",
              "      <td>Riego</td>\n",
              "      <td>200201.0</td>\n",
              "      <td>Tonelada</td>\n",
              "      <td>5980000.0</td>\n",
              "      <td>Centeno forrajero en verde</td>\n",
              "      <td>17.0</td>\n",
              "      <td>17.0</td>\n",
              "      <td>0.0</td>\n",
              "      <td>1020.0</td>\n",
              "      <td>60</td>\n",
              "      <td>350.0</td>\n",
              "      <td>357000.0</td>\n",
              "      <td>NaN</td>\n",
              "    </tr>\n",
              "  </tbody>\n",
              "</table>\n",
              "</div>"
            ],
            "text/plain": [
              "     Anio  Idestado       Nomestado  ...  Precio Valorproduccion  Unnamed: 18\n",
              "0  2003.0       1.0  Aguascalientes  ...   323.4       9226278.6          NaN\n",
              "1  2003.0       1.0  Aguascalientes  ...   250.0         13500.0          NaN\n",
              "2  2003.0       1.0  Aguascalientes  ...   350.0        357000.0          NaN\n",
              "\n",
              "[3 rows x 25 columns]"
            ]
          },
          "metadata": {
            "tags": []
          },
          "execution_count": 29
        }
      ]
    },
    {
      "cell_type": "markdown",
      "metadata": {
        "id": "b9kzxTEVVvcf"
      },
      "source": [
        "En México se cultivan diversas especies de semillas, pero solo nos interesa hacer el análisis del aguacate. Vamos a visualizar los cultivos que estan registrados, que son 463 cultivos."
      ]
    },
    {
      "cell_type": "code",
      "metadata": {
        "colab": {
          "base_uri": "https://localhost:8080/"
        },
        "id": "5mzgZ270VriT",
        "outputId": "fd5cdae8-4d05-4737-9919-81cb8bf33645"
      },
      "source": [
        "cultivos = pd.Series(df['Nomcultivo'].unique().tolist())\r\n",
        "cultivos.sort_values(ascending=True).count()"
      ],
      "execution_count": null,
      "outputs": [
        {
          "output_type": "execute_result",
          "data": {
            "text/plain": [
              "463"
            ]
          },
          "metadata": {
            "tags": []
          },
          "execution_count": 49
        }
      ]
    },
    {
      "cell_type": "code",
      "metadata": {
        "colab": {
          "base_uri": "https://localhost:8080/"
        },
        "id": "IggmPFm2_YEg",
        "outputId": "3c7d4132-292b-4a9e-cca3-108334d96ed3"
      },
      "source": [
        "cultivos.tail(5)"
      ],
      "execution_count": null,
      "outputs": [
        {
          "output_type": "execute_result",
          "data": {
            "text/plain": [
              "459    Mano de león (manojo)\n",
              "460        Orquídea (planta)\n",
              "461         Helecho (manojo)\n",
              "462         Pon-pon (gruesa)\n",
              "463       Hortensia (planta)\n",
              "dtype: object"
            ]
          },
          "metadata": {
            "tags": []
          },
          "execution_count": 52
        }
      ]
    },
    {
      "cell_type": "markdown",
      "metadata": {
        "id": "DDF3qylyb4rF"
      },
      "source": [
        "# Corregir formato para la limpieza de datos"
      ]
    },
    {
      "cell_type": "markdown",
      "metadata": {
        "id": "hi2R-teeYM41"
      },
      "source": [
        "Nos interesa unicamente los registros de nombre de cultivo 'Aguacate'."
      ]
    },
    {
      "cell_type": "code",
      "metadata": {
        "colab": {
          "base_uri": "https://localhost:8080/",
          "height": 210
        },
        "id": "KNNQDYJdc30b",
        "outputId": "a8b49237-0d7c-4d58-883a-4d78ab8a09f8"
      },
      "source": [
        "dfA = df[df[\"Nomcultivo\"] == \"Aguacate\"]\r\n",
        "dfA.head(3)"
      ],
      "execution_count": null,
      "outputs": [
        {
          "output_type": "execute_result",
          "data": {
            "text/html": [
              "<div>\n",
              "<style scoped>\n",
              "    .dataframe tbody tr th:only-of-type {\n",
              "        vertical-align: middle;\n",
              "    }\n",
              "\n",
              "    .dataframe tbody tr th {\n",
              "        vertical-align: top;\n",
              "    }\n",
              "\n",
              "    .dataframe thead th {\n",
              "        text-align: right;\n",
              "    }\n",
              "</style>\n",
              "<table border=\"1\" class=\"dataframe\">\n",
              "  <thead>\n",
              "    <tr style=\"text-align: right;\">\n",
              "      <th></th>\n",
              "      <th>Anio</th>\n",
              "      <th>Cosechada</th>\n",
              "      <th>Idcader</th>\n",
              "      <th>Idciclo</th>\n",
              "      <th>Idcultivo</th>\n",
              "      <th>Idddr</th>\n",
              "      <th>Idestado</th>\n",
              "      <th>Idmodalidad</th>\n",
              "      <th>Idmunicipio</th>\n",
              "      <th>Idunidadmedida</th>\n",
              "      <th>Nomcader</th>\n",
              "      <th>Nomcicloproductivo</th>\n",
              "      <th>Nomcultivo</th>\n",
              "      <th>Nomddr</th>\n",
              "      <th>Nomestado</th>\n",
              "      <th>Nommodalidad</th>\n",
              "      <th>Nommunicipio</th>\n",
              "      <th>Nomunidad</th>\n",
              "      <th>Precio</th>\n",
              "      <th>Rendimiento</th>\n",
              "      <th>Sembrada</th>\n",
              "      <th>Siniestrada</th>\n",
              "      <th>Unnamed: 18</th>\n",
              "      <th>Valorproduccion</th>\n",
              "      <th>Volumenproduccion</th>\n",
              "    </tr>\n",
              "  </thead>\n",
              "  <tbody>\n",
              "    <tr>\n",
              "      <th>166</th>\n",
              "      <td>1980.0</td>\n",
              "      <td>300.0</td>\n",
              "      <td>NaN</td>\n",
              "      <td>3.0</td>\n",
              "      <td>5060000.0</td>\n",
              "      <td>NaN</td>\n",
              "      <td>3.0</td>\n",
              "      <td>1.0</td>\n",
              "      <td>NaN</td>\n",
              "      <td>200201.0</td>\n",
              "      <td>NaN</td>\n",
              "      <td>Perennes</td>\n",
              "      <td>Aguacate</td>\n",
              "      <td>NaN</td>\n",
              "      <td>Baja California Sur</td>\n",
              "      <td>Riego</td>\n",
              "      <td>NaN</td>\n",
              "      <td>Tonelada</td>\n",
              "      <td>18.79</td>\n",
              "      <td>2.78</td>\n",
              "      <td>378.0</td>\n",
              "      <td>0.0</td>\n",
              "      <td>NaN</td>\n",
              "      <td>15652.0</td>\n",
              "      <td>833.0</td>\n",
              "    </tr>\n",
              "    <tr>\n",
              "      <th>204</th>\n",
              "      <td>1980.0</td>\n",
              "      <td>264.0</td>\n",
              "      <td>NaN</td>\n",
              "      <td>3.0</td>\n",
              "      <td>5060000.0</td>\n",
              "      <td>NaN</td>\n",
              "      <td>4.0</td>\n",
              "      <td>2.0</td>\n",
              "      <td>NaN</td>\n",
              "      <td>200201.0</td>\n",
              "      <td>NaN</td>\n",
              "      <td>Perennes</td>\n",
              "      <td>Aguacate</td>\n",
              "      <td>NaN</td>\n",
              "      <td>Campeche</td>\n",
              "      <td>Temporal</td>\n",
              "      <td>NaN</td>\n",
              "      <td>Tonelada</td>\n",
              "      <td>4.80</td>\n",
              "      <td>8</td>\n",
              "      <td>264.0</td>\n",
              "      <td>0.0</td>\n",
              "      <td>NaN</td>\n",
              "      <td>10138.0</td>\n",
              "      <td>2112.0</td>\n",
              "    </tr>\n",
              "    <tr>\n",
              "      <th>315</th>\n",
              "      <td>1980.0</td>\n",
              "      <td>239.0</td>\n",
              "      <td>NaN</td>\n",
              "      <td>3.0</td>\n",
              "      <td>5060000.0</td>\n",
              "      <td>NaN</td>\n",
              "      <td>6.0</td>\n",
              "      <td>1.0</td>\n",
              "      <td>NaN</td>\n",
              "      <td>200201.0</td>\n",
              "      <td>NaN</td>\n",
              "      <td>Perennes</td>\n",
              "      <td>Aguacate</td>\n",
              "      <td>NaN</td>\n",
              "      <td>Colima</td>\n",
              "      <td>Riego</td>\n",
              "      <td>NaN</td>\n",
              "      <td>Tonelada</td>\n",
              "      <td>8.25</td>\n",
              "      <td>3.31</td>\n",
              "      <td>866.0</td>\n",
              "      <td>0.0</td>\n",
              "      <td>NaN</td>\n",
              "      <td>6532.0</td>\n",
              "      <td>792.0</td>\n",
              "    </tr>\n",
              "  </tbody>\n",
              "</table>\n",
              "</div>"
            ],
            "text/plain": [
              "       Anio  Cosechada  ...  Valorproduccion  Volumenproduccion\n",
              "166  1980.0      300.0  ...          15652.0              833.0\n",
              "204  1980.0      264.0  ...          10138.0             2112.0\n",
              "315  1980.0      239.0  ...           6532.0              792.0\n",
              "\n",
              "[3 rows x 25 columns]"
            ]
          },
          "metadata": {
            "tags": []
          },
          "execution_count": 53
        }
      ]
    },
    {
      "cell_type": "markdown",
      "metadata": {
        "id": "CPDVECBjSpOs"
      },
      "source": [
        "Las columnas 'Nomcicloproductivo', 'Nommodalidad', 'Nomunidad' y 'Nomcultivo' son descartados (al igual que la columna de su respectivo Id), donde los datos repetidos representan a:\r\n",
        "*   Cultivo: Aguacate\r\n",
        "*   Modalidad: Riego (modalidad hídrica)\r\n",
        "*   Ciclo productivo: Perennes (continuo)\r\n",
        "*   Unidad: Tonelada"
      ]
    },
    {
      "cell_type": "code",
      "metadata": {
        "colab": {
          "base_uri": "https://localhost:8080/",
          "height": 193
        },
        "id": "N2Qh3n-vUPw3",
        "outputId": "585a1b7a-27e7-4426-821a-60f9af4b0d60"
      },
      "source": [
        "#dfNvo contiene todos las columnas que no contienen un dato repetido en todas las filas\r\n",
        "dfNvo = dfA.loc[:,['Anio', 'Idestado', 'Nomestado', 'Idddr', 'Nomddr', 'Idcader',\r\n",
        "       'Nomcader', 'Idmunicipio', 'Nommunicipio', 'Sembrada', 'Cosechada',\r\n",
        "       'Siniestrada', 'Volumenproduccion', 'Rendimiento', 'Precio',\r\n",
        "       'Valorproduccion']].sort_values('Anio',ascending=True)\r\n",
        "\r\n",
        "dfNvo.head(3)"
      ],
      "execution_count": null,
      "outputs": [
        {
          "output_type": "execute_result",
          "data": {
            "text/html": [
              "<div>\n",
              "<style scoped>\n",
              "    .dataframe tbody tr th:only-of-type {\n",
              "        vertical-align: middle;\n",
              "    }\n",
              "\n",
              "    .dataframe tbody tr th {\n",
              "        vertical-align: top;\n",
              "    }\n",
              "\n",
              "    .dataframe thead th {\n",
              "        text-align: right;\n",
              "    }\n",
              "</style>\n",
              "<table border=\"1\" class=\"dataframe\">\n",
              "  <thead>\n",
              "    <tr style=\"text-align: right;\">\n",
              "      <th></th>\n",
              "      <th>Anio</th>\n",
              "      <th>Idestado</th>\n",
              "      <th>Nomestado</th>\n",
              "      <th>Idddr</th>\n",
              "      <th>Nomddr</th>\n",
              "      <th>Idcader</th>\n",
              "      <th>Nomcader</th>\n",
              "      <th>Idmunicipio</th>\n",
              "      <th>Nommunicipio</th>\n",
              "      <th>Sembrada</th>\n",
              "      <th>Cosechada</th>\n",
              "      <th>Siniestrada</th>\n",
              "      <th>Volumenproduccion</th>\n",
              "      <th>Rendimiento</th>\n",
              "      <th>Precio</th>\n",
              "      <th>Valorproduccion</th>\n",
              "    </tr>\n",
              "  </thead>\n",
              "  <tbody>\n",
              "    <tr>\n",
              "      <th>166</th>\n",
              "      <td>1980.0</td>\n",
              "      <td>3.0</td>\n",
              "      <td>Baja California Sur</td>\n",
              "      <td>NaN</td>\n",
              "      <td>NaN</td>\n",
              "      <td>NaN</td>\n",
              "      <td>NaN</td>\n",
              "      <td>NaN</td>\n",
              "      <td>NaN</td>\n",
              "      <td>378.0</td>\n",
              "      <td>300.0</td>\n",
              "      <td>0.0</td>\n",
              "      <td>833.0</td>\n",
              "      <td>2.78</td>\n",
              "      <td>18.79</td>\n",
              "      <td>15652.0</td>\n",
              "    </tr>\n",
              "    <tr>\n",
              "      <th>1524</th>\n",
              "      <td>1980.0</td>\n",
              "      <td>20.0</td>\n",
              "      <td>Oaxaca</td>\n",
              "      <td>NaN</td>\n",
              "      <td>NaN</td>\n",
              "      <td>NaN</td>\n",
              "      <td>NaN</td>\n",
              "      <td>NaN</td>\n",
              "      <td>NaN</td>\n",
              "      <td>134.0</td>\n",
              "      <td>18.0</td>\n",
              "      <td>0.0</td>\n",
              "      <td>35.0</td>\n",
              "      <td>1.94</td>\n",
              "      <td>20.09</td>\n",
              "      <td>703.0</td>\n",
              "    </tr>\n",
              "    <tr>\n",
              "      <th>1531</th>\n",
              "      <td>1980.0</td>\n",
              "      <td>20.0</td>\n",
              "      <td>Oaxaca</td>\n",
              "      <td>NaN</td>\n",
              "      <td>NaN</td>\n",
              "      <td>NaN</td>\n",
              "      <td>NaN</td>\n",
              "      <td>NaN</td>\n",
              "      <td>NaN</td>\n",
              "      <td>1934.0</td>\n",
              "      <td>1875.0</td>\n",
              "      <td>0.0</td>\n",
              "      <td>36978.0</td>\n",
              "      <td>19.72</td>\n",
              "      <td>20.00</td>\n",
              "      <td>739560.0</td>\n",
              "    </tr>\n",
              "  </tbody>\n",
              "</table>\n",
              "</div>"
            ],
            "text/plain": [
              "        Anio  Idestado  ... Precio  Valorproduccion\n",
              "166   1980.0       3.0  ...  18.79          15652.0\n",
              "1524  1980.0      20.0  ...  20.09            703.0\n",
              "1531  1980.0      20.0  ...  20.00         739560.0\n",
              "\n",
              "[3 rows x 16 columns]"
            ]
          },
          "metadata": {
            "tags": []
          },
          "execution_count": 54
        }
      ]
    },
    {
      "cell_type": "markdown",
      "metadata": {
        "id": "m7FEVdDF31Um"
      },
      "source": [
        "Se observa si existen valores nulos y cuantos son por columna.\r\n",
        "\r\n"
      ]
    },
    {
      "cell_type": "code",
      "metadata": {
        "colab": {
          "base_uri": "https://localhost:8080/"
        },
        "id": "Z9nnOriP377q",
        "outputId": "0357b909-563d-4b98-88a6-38e938c58fec"
      },
      "source": [
        "dfNvo.isna().sum()"
      ],
      "execution_count": null,
      "outputs": [
        {
          "output_type": "execute_result",
          "data": {
            "text/plain": [
              "Anio                   0\n",
              "Idestado               0\n",
              "Nomestado              0\n",
              "Idddr                981\n",
              "Nomddr               981\n",
              "Idcader              981\n",
              "Nomcader             981\n",
              "Idmunicipio          981\n",
              "Nommunicipio         981\n",
              "Sembrada               0\n",
              "Cosechada              0\n",
              "Siniestrada            0\n",
              "Volumenproduccion      0\n",
              "Rendimiento           56\n",
              "Precio                56\n",
              "Valorproduccion        0\n",
              "dtype: int64"
            ]
          },
          "metadata": {
            "tags": []
          },
          "execution_count": 55
        }
      ]
    },
    {
      "cell_type": "markdown",
      "metadata": {
        "id": "MBag6I_rWu7b"
      },
      "source": [
        "\r\n",
        "\r\n",
        "---\r\n",
        "\r\n",
        "---\r\n",
        "\r\n",
        "\r\n",
        "\r\n",
        "\r\n",
        "Con esto se puede deducir que para un análisis de producción por estado si es posible con los 40 años, pero por municipio no porque hace falta datos.\r\n",
        "\r\n",
        "\r\n",
        "De los años 1980 a 2002 no se tienen las columnas 'Nomddr', 'Nomcader', 'Nommunicipio' y sus respectivos Id's. Se parten en 2 dataframes para el problema de los valores NaN, uno será para hacer el análisis de los 40 años por estado, y otro para análisis con todos los campos de 2002-2019."
      ]
    },
    {
      "cell_type": "markdown",
      "metadata": {
        "id": "9RTIZOBZ_6XY"
      },
      "source": [
        "#*   Transformación de datos para análisis por municipios (2003-2019)\r\n",
        "\r\n"
      ]
    },
    {
      "cell_type": "code",
      "metadata": {
        "colab": {
          "base_uri": "https://localhost:8080/"
        },
        "id": "hYb3IfU3XvF0",
        "outputId": "3d863c26-8aa6-4bfc-daaf-c50ffca888fb"
      },
      "source": [
        "dfMun = dfNvo.dropna(how=\"all\", subset=['Idddr'])\r\n",
        "dfMun\r\n",
        "dfMun.isna().sum()"
      ],
      "execution_count": null,
      "outputs": [
        {
          "output_type": "execute_result",
          "data": {
            "text/plain": [
              "Anio                  0\n",
              "Idestado              0\n",
              "Nomestado             0\n",
              "Idddr                 0\n",
              "Nomddr                0\n",
              "Idcader               0\n",
              "Nomcader              0\n",
              "Idmunicipio           0\n",
              "Nommunicipio          0\n",
              "Sembrada              0\n",
              "Cosechada             0\n",
              "Siniestrada           0\n",
              "Volumenproduccion     0\n",
              "Rendimiento          56\n",
              "Precio               56\n",
              "Valorproduccion       0\n",
              "dtype: int64"
            ]
          },
          "metadata": {
            "tags": []
          },
          "execution_count": 56
        }
      ]
    },
    {
      "cell_type": "markdown",
      "metadata": {
        "id": "9AM34r1r8nhE"
      },
      "source": [
        "Los datos nulos de las columnas de 'Rendimiento' y 'Precio' se rellenaran con el último dato registrado para no alterar resultados."
      ]
    },
    {
      "cell_type": "code",
      "metadata": {
        "id": "5vU6gPUR8xSh"
      },
      "source": [
        "%%capture\r\n",
        "dfMun['Rendimiento'] = dfMun['Rendimiento'].fillna(method='ffill')\r\n",
        "dfMun['Precio'] = dfMun['Precio'].fillna(method='ffill')"
      ],
      "execution_count": null,
      "outputs": []
    },
    {
      "cell_type": "code",
      "metadata": {
        "colab": {
          "base_uri": "https://localhost:8080/"
        },
        "id": "V3V-wEUI_uqZ",
        "outputId": "9122d0c7-e026-4a5a-898f-1418b8ae230d"
      },
      "source": [
        "dfMun.isna().sum()"
      ],
      "execution_count": null,
      "outputs": [
        {
          "output_type": "execute_result",
          "data": {
            "text/plain": [
              "Anio                 0\n",
              "Idestado             0\n",
              "Nomestado            0\n",
              "Idddr                0\n",
              "Nomddr               0\n",
              "Idcader              0\n",
              "Nomcader             0\n",
              "Idmunicipio          0\n",
              "Nommunicipio         0\n",
              "Sembrada             0\n",
              "Cosechada            0\n",
              "Siniestrada          0\n",
              "Volumenproduccion    0\n",
              "Rendimiento          0\n",
              "Precio               0\n",
              "Valorproduccion      0\n",
              "dtype: int64"
            ]
          },
          "metadata": {
            "tags": []
          },
          "execution_count": 59
        }
      ]
    },
    {
      "cell_type": "markdown",
      "metadata": {
        "id": "ZL9dEeRAZ6LG"
      },
      "source": [
        "Checamos los tipos de variables que maneja cada columna."
      ]
    },
    {
      "cell_type": "code",
      "metadata": {
        "colab": {
          "base_uri": "https://localhost:8080/"
        },
        "id": "gIolIm_naA1R",
        "outputId": "4a256d35-17c9-4b0a-dbf8-57e30b003dcf"
      },
      "source": [
        "dfMun.dtypes"
      ],
      "execution_count": null,
      "outputs": [
        {
          "output_type": "execute_result",
          "data": {
            "text/plain": [
              "Anio                 float64\n",
              "Idestado             float64\n",
              "Nomestado             object\n",
              "Idddr                float64\n",
              "Nomddr                object\n",
              "Idcader              float64\n",
              "Nomcader              object\n",
              "Idmunicipio          float64\n",
              "Nommunicipio          object\n",
              "Sembrada             float64\n",
              "Cosechada            float64\n",
              "Siniestrada          float64\n",
              "Volumenproduccion    float64\n",
              "Rendimiento           object\n",
              "Precio               float64\n",
              "Valorproduccion      float64\n",
              "dtype: object"
            ]
          },
          "metadata": {
            "tags": []
          },
          "execution_count": 60
        }
      ]
    },
    {
      "cell_type": "markdown",
      "metadata": {
        "id": "yHwqOiItaGl8"
      },
      "source": [
        "Convertimos al tipo de variable correcto."
      ]
    },
    {
      "cell_type": "code",
      "metadata": {
        "colab": {
          "base_uri": "https://localhost:8080/"
        },
        "id": "NQYv4owiaVcy",
        "outputId": "2034681f-30ae-442c-b216-6a10775c7962"
      },
      "source": [
        "diccionario_casting = {\r\n",
        "    'Anio': int,\r\n",
        "    'Idestado': int,\r\n",
        "    'Idddr': int,\r\n",
        "    'Idcader': int,\r\n",
        "    'Idmunicipio': int,\r\n",
        "}\r\n",
        "dfMun = dfMun.astype(diccionario_casting)\r\n",
        "dfMun.dtypes"
      ],
      "execution_count": null,
      "outputs": [
        {
          "output_type": "execute_result",
          "data": {
            "text/plain": [
              "Anio                   int64\n",
              "Idestado               int64\n",
              "Nomestado             object\n",
              "Idddr                  int64\n",
              "Nomddr                object\n",
              "Idcader                int64\n",
              "Nomcader              object\n",
              "Idmunicipio            int64\n",
              "Nommunicipio          object\n",
              "Sembrada             float64\n",
              "Cosechada            float64\n",
              "Siniestrada          float64\n",
              "Volumenproduccion    float64\n",
              "Rendimiento           object\n",
              "Precio               float64\n",
              "Valorproduccion      float64\n",
              "dtype: object"
            ]
          },
          "metadata": {
            "tags": []
          },
          "execution_count": 61
        }
      ]
    },
    {
      "cell_type": "markdown",
      "metadata": {
        "id": "VixY8gkKamqA"
      },
      "source": [
        "Reseteamos el índice."
      ]
    },
    {
      "cell_type": "code",
      "metadata": {
        "colab": {
          "base_uri": "https://localhost:8080/",
          "height": 262
        },
        "id": "4VDasJOx9uwy",
        "outputId": "9c82cf6e-1ab3-494e-fa3b-81934ae6870e"
      },
      "source": [
        "dfMun.reset_index(drop=True).head(3)"
      ],
      "execution_count": null,
      "outputs": [
        {
          "output_type": "execute_result",
          "data": {
            "text/html": [
              "<div>\n",
              "<style scoped>\n",
              "    .dataframe tbody tr th:only-of-type {\n",
              "        vertical-align: middle;\n",
              "    }\n",
              "\n",
              "    .dataframe tbody tr th {\n",
              "        vertical-align: top;\n",
              "    }\n",
              "\n",
              "    .dataframe thead th {\n",
              "        text-align: right;\n",
              "    }\n",
              "</style>\n",
              "<table border=\"1\" class=\"dataframe\">\n",
              "  <thead>\n",
              "    <tr style=\"text-align: right;\">\n",
              "      <th></th>\n",
              "      <th>Anio</th>\n",
              "      <th>Idestado</th>\n",
              "      <th>Nomestado</th>\n",
              "      <th>Idddr</th>\n",
              "      <th>Nomddr</th>\n",
              "      <th>Idcader</th>\n",
              "      <th>Nomcader</th>\n",
              "      <th>Idmunicipio</th>\n",
              "      <th>Nommunicipio</th>\n",
              "      <th>Sembrada</th>\n",
              "      <th>Cosechada</th>\n",
              "      <th>Siniestrada</th>\n",
              "      <th>Volumenproduccion</th>\n",
              "      <th>Rendimiento</th>\n",
              "      <th>Precio</th>\n",
              "      <th>Valorproduccion</th>\n",
              "    </tr>\n",
              "  </thead>\n",
              "  <tbody>\n",
              "    <tr>\n",
              "      <th>0</th>\n",
              "      <td>2003</td>\n",
              "      <td>20</td>\n",
              "      <td>Oaxaca</td>\n",
              "      <td>109</td>\n",
              "      <td>Cañada</td>\n",
              "      <td>1</td>\n",
              "      <td>Teotitlán de Flores Magón</td>\n",
              "      <td>163</td>\n",
              "      <td>San Jerónimo Tecóatl</td>\n",
              "      <td>12.0</td>\n",
              "      <td>12.0</td>\n",
              "      <td>0.0</td>\n",
              "      <td>42.0</td>\n",
              "      <td>3.5</td>\n",
              "      <td>2700.0</td>\n",
              "      <td>113400.0</td>\n",
              "    </tr>\n",
              "    <tr>\n",
              "      <th>1</th>\n",
              "      <td>2003</td>\n",
              "      <td>20</td>\n",
              "      <td>Oaxaca</td>\n",
              "      <td>109</td>\n",
              "      <td>Cañada</td>\n",
              "      <td>1</td>\n",
              "      <td>Teotitlán de Flores Magón</td>\n",
              "      <td>206</td>\n",
              "      <td>San Juan de Los Cués</td>\n",
              "      <td>6.0</td>\n",
              "      <td>6.0</td>\n",
              "      <td>0.0</td>\n",
              "      <td>21.0</td>\n",
              "      <td>3.5</td>\n",
              "      <td>3150.0</td>\n",
              "      <td>66150.0</td>\n",
              "    </tr>\n",
              "    <tr>\n",
              "      <th>2</th>\n",
              "      <td>2003</td>\n",
              "      <td>20</td>\n",
              "      <td>Oaxaca</td>\n",
              "      <td>109</td>\n",
              "      <td>Cañada</td>\n",
              "      <td>1</td>\n",
              "      <td>Teotitlán de Flores Magón</td>\n",
              "      <td>244</td>\n",
              "      <td>San Martín Toxpalan</td>\n",
              "      <td>11.0</td>\n",
              "      <td>11.0</td>\n",
              "      <td>0.0</td>\n",
              "      <td>66.0</td>\n",
              "      <td>6</td>\n",
              "      <td>5380.0</td>\n",
              "      <td>355080.0</td>\n",
              "    </tr>\n",
              "  </tbody>\n",
              "</table>\n",
              "</div>"
            ],
            "text/plain": [
              "   Anio  Idestado Nomestado  ...  Rendimiento  Precio  Valorproduccion\n",
              "0  2003        20    Oaxaca  ...          3.5  2700.0         113400.0\n",
              "1  2003        20    Oaxaca  ...          3.5  3150.0          66150.0\n",
              "2  2003        20    Oaxaca  ...            6  5380.0         355080.0\n",
              "\n",
              "[3 rows x 16 columns]"
            ]
          },
          "metadata": {
            "tags": []
          },
          "execution_count": 62
        }
      ]
    },
    {
      "cell_type": "markdown",
      "metadata": {
        "id": "YOxn-I5g-riG"
      },
      "source": [
        "¡Ya está listo! Solo falta guardarlo en un nuevo archivo."
      ]
    },
    {
      "cell_type": "code",
      "metadata": {
        "id": "_LhBLB_M-1ND"
      },
      "source": [
        "dfMun.to_csv(r'/dfMunicipios0319.csv', index = False)"
      ],
      "execution_count": null,
      "outputs": []
    },
    {
      "cell_type": "markdown",
      "metadata": {
        "id": "88NJD23A9qzF"
      },
      "source": [
        "\r\n",
        "\r\n",
        "---\r\n",
        "\r\n",
        "---\r\n",
        "\r\n",
        "\r\n",
        "\r\n"
      ]
    },
    {
      "cell_type": "markdown",
      "metadata": {
        "id": "dqsyosLaAOcO"
      },
      "source": [
        "#*   Transformación de datos para análisis por estados (1980-2019)"
      ]
    },
    {
      "cell_type": "markdown",
      "metadata": {
        "id": "tz2f3OdhZ0By"
      },
      "source": [
        "La columna de 'Nommunicipio' tambien se retira porque hay mas de 20 años donde no contiene su información, es por eso que este dataframe será solo para el análisis por estado.\r\n",
        "\r\n",
        "\r\n",
        "Las columnas de 'Sembrada', 'Cosechada', 'Siniestrada', 'Rendimiento', 'Nomcader', 'Idcader', 'Nomddr' y 'Iddr', serán retiradas porque no son necesarias para hacer el análisis final del volumen y valor de producción de aguacate por municipio.\r\n",
        "*   Nomddr: Distrito de Desarrollo Rural\r\n",
        "*   Nomcader: Centro de Apoyo al Desarrollo Rural\r\n",
        "*   Sembrada: hectáreas de superficie sembrada\r\n",
        "*   Cosechada: hectáreas de superficie cosechada\r\n",
        "*   Siniestrada: hectáreas de superficie dañada\r\n",
        "*   Rendimiento: toneladas por hectárea\r\n"
      ]
    },
    {
      "cell_type": "code",
      "metadata": {
        "colab": {
          "base_uri": "https://localhost:8080/",
          "height": 138
        },
        "id": "IeAhRX-QRL4M",
        "outputId": "b6504706-b819-4dfc-881f-1ba3b17ad397"
      },
      "source": [
        "dfEst = dfNvo.loc[:,['Anio', 'Idestado', 'Nomestado', 'Volumenproduccion', 'Precio', 'Valorproduccion']]\r\n",
        "dfEst.head(3)"
      ],
      "execution_count": null,
      "outputs": [
        {
          "output_type": "execute_result",
          "data": {
            "text/html": [
              "<div>\n",
              "<style scoped>\n",
              "    .dataframe tbody tr th:only-of-type {\n",
              "        vertical-align: middle;\n",
              "    }\n",
              "\n",
              "    .dataframe tbody tr th {\n",
              "        vertical-align: top;\n",
              "    }\n",
              "\n",
              "    .dataframe thead th {\n",
              "        text-align: right;\n",
              "    }\n",
              "</style>\n",
              "<table border=\"1\" class=\"dataframe\">\n",
              "  <thead>\n",
              "    <tr style=\"text-align: right;\">\n",
              "      <th></th>\n",
              "      <th>Anio</th>\n",
              "      <th>Idestado</th>\n",
              "      <th>Nomestado</th>\n",
              "      <th>Volumenproduccion</th>\n",
              "      <th>Precio</th>\n",
              "      <th>Valorproduccion</th>\n",
              "    </tr>\n",
              "  </thead>\n",
              "  <tbody>\n",
              "    <tr>\n",
              "      <th>166</th>\n",
              "      <td>1980.0</td>\n",
              "      <td>3.0</td>\n",
              "      <td>Baja California Sur</td>\n",
              "      <td>833.0</td>\n",
              "      <td>18.79</td>\n",
              "      <td>15652.0</td>\n",
              "    </tr>\n",
              "    <tr>\n",
              "      <th>1524</th>\n",
              "      <td>1980.0</td>\n",
              "      <td>20.0</td>\n",
              "      <td>Oaxaca</td>\n",
              "      <td>35.0</td>\n",
              "      <td>20.09</td>\n",
              "      <td>703.0</td>\n",
              "    </tr>\n",
              "    <tr>\n",
              "      <th>1531</th>\n",
              "      <td>1980.0</td>\n",
              "      <td>20.0</td>\n",
              "      <td>Oaxaca</td>\n",
              "      <td>36978.0</td>\n",
              "      <td>20.00</td>\n",
              "      <td>739560.0</td>\n",
              "    </tr>\n",
              "  </tbody>\n",
              "</table>\n",
              "</div>"
            ],
            "text/plain": [
              "        Anio  Idestado  ... Precio  Valorproduccion\n",
              "166   1980.0       3.0  ...  18.79          15652.0\n",
              "1524  1980.0      20.0  ...  20.09            703.0\n",
              "1531  1980.0      20.0  ...  20.00         739560.0\n",
              "\n",
              "[3 rows x 6 columns]"
            ]
          },
          "metadata": {
            "tags": []
          },
          "execution_count": 63
        }
      ]
    },
    {
      "cell_type": "markdown",
      "metadata": {
        "id": "yeEXTH9jca9b"
      },
      "source": [
        "Checamos por datos nulos."
      ]
    },
    {
      "cell_type": "code",
      "metadata": {
        "colab": {
          "base_uri": "https://localhost:8080/"
        },
        "id": "u2rl-7rrcacR",
        "outputId": "30e3dc62-1ba2-4404-b32b-9a4bb765c204"
      },
      "source": [
        "dfEst.isna().sum()"
      ],
      "execution_count": null,
      "outputs": [
        {
          "output_type": "execute_result",
          "data": {
            "text/plain": [
              "Anio                  0\n",
              "Idestado              0\n",
              "Nomestado             0\n",
              "Volumenproduccion     0\n",
              "Precio               56\n",
              "Valorproduccion       0\n",
              "dtype: int64"
            ]
          },
          "metadata": {
            "tags": []
          },
          "execution_count": 40
        }
      ]
    },
    {
      "cell_type": "markdown",
      "metadata": {
        "id": "Tgwpo2iiekfa"
      },
      "source": [
        "Llenamos los campos nulos en 'Precio' con el último registro."
      ]
    },
    {
      "cell_type": "code",
      "metadata": {
        "colab": {
          "base_uri": "https://localhost:8080/"
        },
        "id": "g3OR9xa6ebY6",
        "outputId": "318e3830-aa9f-47d4-ec88-84d50f0f7e3e"
      },
      "source": [
        "dfEst['Precio'] = dfEst['Precio'].fillna(method='ffill')\r\n",
        "dfEst.isna().sum()"
      ],
      "execution_count": null,
      "outputs": [
        {
          "output_type": "execute_result",
          "data": {
            "text/plain": [
              "Anio                 0\n",
              "Idestado             0\n",
              "Nomestado            0\n",
              "Volumenproduccion    0\n",
              "Precio               0\n",
              "Valorproduccion      0\n",
              "dtype: int64"
            ]
          },
          "metadata": {
            "tags": []
          },
          "execution_count": 41
        }
      ]
    },
    {
      "cell_type": "markdown",
      "metadata": {
        "id": "N3EHUmfuesQL"
      },
      "source": [
        "Arreglamos los tipos de variable para las columnas."
      ]
    },
    {
      "cell_type": "code",
      "metadata": {
        "colab": {
          "base_uri": "https://localhost:8080/"
        },
        "id": "o2veJSvKc88q",
        "outputId": "2a331be0-b96f-4250-d8a8-c6a4412ce638"
      },
      "source": [
        "dfEst.dtypes"
      ],
      "execution_count": null,
      "outputs": [
        {
          "output_type": "execute_result",
          "data": {
            "text/plain": [
              "Anio                 float64\n",
              "Idestado             float64\n",
              "Nomestado             object\n",
              "Volumenproduccion    float64\n",
              "Precio               float64\n",
              "Valorproduccion      float64\n",
              "dtype: object"
            ]
          },
          "metadata": {
            "tags": []
          },
          "execution_count": 23
        }
      ]
    },
    {
      "cell_type": "code",
      "metadata": {
        "colab": {
          "base_uri": "https://localhost:8080/"
        },
        "id": "6W3Ss7N-c_mn",
        "outputId": "73cd3809-a693-4986-9a6e-332a7269ed38"
      },
      "source": [
        "diccionary_casting = {\r\n",
        "    'Anio': int,\r\n",
        "    'Idestado': int,\r\n",
        "}\r\n",
        "dfEst = dfEst.astype(diccionary_casting)\r\n",
        "dfEst.dtypes"
      ],
      "execution_count": null,
      "outputs": [
        {
          "output_type": "execute_result",
          "data": {
            "text/plain": [
              "Anio                   int64\n",
              "Idestado               int64\n",
              "Nomestado             object\n",
              "Volumenproduccion    float64\n",
              "Precio               float64\n",
              "Valorproduccion      float64\n",
              "dtype: object"
            ]
          },
          "metadata": {
            "tags": []
          },
          "execution_count": 42
        }
      ]
    },
    {
      "cell_type": "code",
      "metadata": {
        "colab": {
          "base_uri": "https://localhost:8080/",
          "height": 138
        },
        "id": "GY3LSwHAhxBd",
        "outputId": "cb10d004-598f-4190-b2e7-2dc6d8f8f23e"
      },
      "source": [
        "dfEst.reset_index(drop=True).head(3)"
      ],
      "execution_count": null,
      "outputs": [
        {
          "output_type": "execute_result",
          "data": {
            "text/html": [
              "<div>\n",
              "<style scoped>\n",
              "    .dataframe tbody tr th:only-of-type {\n",
              "        vertical-align: middle;\n",
              "    }\n",
              "\n",
              "    .dataframe tbody tr th {\n",
              "        vertical-align: top;\n",
              "    }\n",
              "\n",
              "    .dataframe thead th {\n",
              "        text-align: right;\n",
              "    }\n",
              "</style>\n",
              "<table border=\"1\" class=\"dataframe\">\n",
              "  <thead>\n",
              "    <tr style=\"text-align: right;\">\n",
              "      <th></th>\n",
              "      <th>Anio</th>\n",
              "      <th>Idestado</th>\n",
              "      <th>Nomestado</th>\n",
              "      <th>Volumenproduccion</th>\n",
              "      <th>Precio</th>\n",
              "      <th>Valorproduccion</th>\n",
              "    </tr>\n",
              "  </thead>\n",
              "  <tbody>\n",
              "    <tr>\n",
              "      <th>0</th>\n",
              "      <td>1980</td>\n",
              "      <td>13</td>\n",
              "      <td>Hidalgo</td>\n",
              "      <td>3330.0</td>\n",
              "      <td>14.0</td>\n",
              "      <td>46620.0</td>\n",
              "    </tr>\n",
              "    <tr>\n",
              "      <th>1</th>\n",
              "      <td>1980</td>\n",
              "      <td>17</td>\n",
              "      <td>Morelos</td>\n",
              "      <td>1857.0</td>\n",
              "      <td>12.0</td>\n",
              "      <td>22284.0</td>\n",
              "    </tr>\n",
              "    <tr>\n",
              "      <th>2</th>\n",
              "      <td>1980</td>\n",
              "      <td>16</td>\n",
              "      <td>Michoacán</td>\n",
              "      <td>5800.0</td>\n",
              "      <td>11.0</td>\n",
              "      <td>63800.0</td>\n",
              "    </tr>\n",
              "  </tbody>\n",
              "</table>\n",
              "</div>"
            ],
            "text/plain": [
              "   Anio  Idestado  Nomestado  Volumenproduccion  Precio  Valorproduccion\n",
              "0  1980        13    Hidalgo             3330.0    14.0          46620.0\n",
              "1  1980        17    Morelos             1857.0    12.0          22284.0\n",
              "2  1980        16  Michoacán             5800.0    11.0          63800.0"
            ]
          },
          "metadata": {
            "tags": []
          },
          "execution_count": 46
        }
      ]
    },
    {
      "cell_type": "markdown",
      "metadata": {
        "id": "n-ZiIs8Show5"
      },
      "source": [
        "¡Hora de guardarlo y descargarlo!"
      ]
    },
    {
      "cell_type": "code",
      "metadata": {
        "id": "Wp1Y-B335Xxf"
      },
      "source": [
        "dfEst.to_csv(r'/dfEstados8019.csv', index = False)"
      ],
      "execution_count": null,
      "outputs": []
    }
  ]
}